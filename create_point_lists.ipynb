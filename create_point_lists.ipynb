{
 "cells": [
  {
   "cell_type": "markdown",
   "metadata": {},
   "source": [
    "# Setup A3D domain\n",
    "This notebook provides a workflow to set up an Alpine3D simulation for Antarctica.\n",
    "- It reads the file ```a3d_settings.txt``` for the settings\n",
    "- Creates the Digital Elevation Model (DEM)\n",
    "- Creates a list of stand-alone SNOWPACK simulations to initialize the grid points\n",
    "- Creates a grid mapping the SNOWPACK simulations to the grid points (LUS-file)"
   ]
  },
  {
   "cell_type": "code",
   "execution_count": null,
   "metadata": {},
   "outputs": [],
   "source": [
    "import os\n",
    "import re\n",
    "import numpy as np\n",
    "from scipy.interpolate import NearestNDInterpolator\n",
    "import rasterio\n",
    "import pyproj\n",
    "\n",
    "from shapely.geometry import Polygon, Point, shape\n",
    "from shapely.ops import transform\n",
    "import shapely.prepared\n",
    "\n",
    "# Initialize required projections\n",
    "wgs84 = pyproj.CRS('EPSG:4326')  # WGS 84\n",
    "aps = pyproj.CRS('EPSG:3031')    # Antarctic Polar Stereographic\n",
    "gps = pyproj.CRS('EPSG:3413')    # Greenland Polar Stereographic\n",
    "\n",
    "project_to_aps = pyproj.Transformer.from_crs(wgs84, aps, always_xy=True).transform\n",
    "project_to_gps = pyproj.Transformer.from_crs(wgs84, gps, always_xy=True).transform"
   ]
  },
  {
   "cell_type": "markdown",
   "metadata": {},
   "source": [
    "# Import settings"
   ]
  },
  {
   "cell_type": "code",
   "execution_count": null,
   "metadata": {},
   "outputs": [],
   "source": [
    "exec(open(\"a3d_settings.txt\").read())"
   ]
  },
  {
   "cell_type": "markdown",
   "metadata": {},
   "source": [
    "## Read SNOWPACK points\n",
    "SNOWPACK.pts should contain `latitude longitude` for all SNOWPACK run points"
   ]
  },
  {
   "cell_type": "code",
   "execution_count": null,
   "metadata": {},
   "outputs": [],
   "source": [
    "%%bash\n",
    "#cat <(tail -n+2 MERRA-2_AIS_subset_icefr80.txt | tr ',' ' ') <(grep ^VSTATION greenland_mask50percent.lst | awk '{print $4, $5}') > SNOWPACK.pts"
   ]
  },
  {
   "cell_type": "code",
   "execution_count": null,
   "metadata": {},
   "outputs": [],
   "source": [
    "# Read points for which we performed SNOWPACK simulations\n",
    "SP_pts = np.loadtxt(SNOWPACK_pts, comments=\"#\", delimiter=\" \", unpack=False)\n",
    "\n",
    "# Now transform coordinates\n",
    "SP_pts_A = []    # WGS 84\n",
    "SP_pts_G = []    # WGS 84\n",
    "SP_pts_AT = []   # Antarctic Polar Stereographic\n",
    "SP_pts_GT = []   # Greenland Polar Stereographic\n",
    "for i in SP_pts:\n",
    "    pt = Point(i[1], i[0])                  # WGS-84, EPSG:4326\n",
    "    if i[0] < 0:                            # Southern hemisphere\n",
    "        SP_pts_t = transform(project_to_aps, Point(i[1], i[0]))\n",
    "        SP_pts_A.append([i[1], i[0]])\n",
    "        SP_pts_AT.append([SP_pts_t.x, SP_pts_t.y])\n",
    "    else:\n",
    "        SP_pts_t = transform(project_to_gps, Point(i[1], i[0]))\n",
    "        SP_pts_G.append([i[1], i[0]])\n",
    "        SP_pts_GT.append([SP_pts_t.x, SP_pts_t.y])\n",
    "SP_pts_A = np.array(SP_pts_A)\n",
    "SP_pts_AT = np.array(SP_pts_AT)\n",
    "SP_pts_G = np.array(SP_pts_G)\n",
    "SP_pts_GT = np.array(SP_pts_GT)"
   ]
  },
  {
   "cell_type": "markdown",
   "metadata": {},
   "source": [
    "## Function to write ASCII grids"
   ]
  },
  {
   "cell_type": "code",
   "execution_count": null,
   "metadata": {},
   "outputs": [],
   "source": [
    "def writeGrid(grid, filename):\n",
    "    nrows = np.shape(Z)[0]\n",
    "    ncols = np.shape(Z)[1]\n",
    "    nodata = -9999\n",
    "    xll = dem_ulx\n",
    "    yll = dem_lry\n",
    "    f = open(filename, 'w')\n",
    "    f.write(\"ncols \" + str(ncols) + \"\\n\")\n",
    "    f.write(\"nrows \" + str(nrows) + \"\\n\")\n",
    "    f.write(\"xllcorner \" + str(xll) + \"\\n\")\n",
    "    f.write(\"yllcorner \" + str(yll) + \"\\n\")\n",
    "    f.write(\"cellsize \" + str(cellsize) + \"\\n\")\n",
    "    f.write(\"NODATA_value \" + str(nodata) + \"\\n\")\n",
    "    np.savetxt(f, grid, fmt=\"%.0f\")\n",
    "    f.close()"
   ]
  },
  {
   "cell_type": "markdown",
   "metadata": {},
   "source": [
    "# Determine the area represented by a SNOWPACK grid point based on nearest neighbor interpolation\n",
    "Here, we first create the Digital Elevation Model (DEM), after which we apply nearest neighbor interpolation using the SNOWPACK grid points index to identify which SNOWPACK grid point is closest to each of the grid cells in the DEM. We generate a file called a Land-Use-File (LUS), which determines which *.sno file Alpine3D will read in for each grid point."
   ]
  },
  {
   "cell_type": "code",
   "execution_count": null,
   "metadata": {},
   "outputs": [],
   "source": [
    "#\n",
    "# Antarctica\n",
    "#\n",
    "\n",
    "# First, create DEM\n",
    "tgt_dem = input_grids_prefix + \".dem\"\n",
    "toexec = \"gdal_translate -of AAIGrid -a_nodata -9999 -tr \" + str(cellsize) + \" \" + str(cellsize) + \" -projwin \" + str(ulx) + \" \" + str(uly) + \" \" + str(lrx) + \" \" + str(lry) + \" \" + str(src_dem) + \" \" + str(tgt_dem)\n",
    "os.system(toexec)\n",
    "\n",
    "# Now read the bounds of the created DEM, to make sure the LUS file corresponds exactly to the DEM\n",
    "dem = rasterio.open(input_grids_prefix + \".dem\")\n",
    "dem_ulx = dem.bounds[0];\n",
    "dem_lry = dem.bounds[1];\n",
    "dem_lrx = dem.bounds[2];\n",
    "dem_uly = dem.bounds[3];\n",
    "dem.close();\n",
    "\n",
    "# Then, determine mapping of SNOWPACK standalone simulations to the requested A3D domain\n",
    "x = SP_pts_AT[:,0]                       # Select all X-coordinates from SNOWPACK-run points\n",
    "y = SP_pts_AT[:,1]                       # Select all Y-coordinates from SNOWPACK-run points\n",
    "z = [i for i in range(len(SP_pts_AT))]   # The z-value is set as the index of the grid point\n",
    "\n",
    "XX = np.arange(dem_ulx, dem_lrx, cellsize)\n",
    "YY = np.arange(dem_lry, dem_uly, cellsize)\n",
    "\n",
    "XX = np.arange(dem_ulx, dem_lrx, cellsize)\n",
    "YY = np.arange(dem_lry, dem_uly, cellsize)\n",
    "\n",
    "# 2D grid for interpolation, note that we shift from cell corners to cell centers for interpolation!\n",
    "X, Y = np.meshgrid(XX + cellsize/2, YY+cellsize/2)\n",
    "\n",
    "#\n",
    "# We now interpolate the SNOWPACK indices with nearest neighbor\n",
    "# This will be the \"LUS\", or land-use-file, mapping which *sno file Alpine3D should use for each pixel\n",
    "#\n",
    "interp = NearestNDInterpolator(list(zip(x, y)), z)                 # Construct interpolator\n",
    "Z = interp(X, Y)\n",
    "\n",
    "# Write the grid\n",
    "writeGrid(Z, input_grids_prefix + \".lus\")\n",
    "\n",
    "# Write the list of index, lat, lon\n",
    "f = open(input_grids_prefix + \".lst\", 'w')\n",
    "f.write(\"#index latitude longitude easting northing\\n\")\n",
    "for idx in np.unique(Z):\n",
    "    f.write('{:d}'.format(idx) + \" \" + '{:.3f}'.format(SP_pts_A[idx,1]) + \" \" + '{:.3f}'.format(SP_pts_A[idx,0]) + \" \" + '{:.0f}'.format(SP_pts_AT[idx,0]) + \" \" + '{:.0f}'.format(SP_pts_AT[idx,1]) + \"\\n\")\n",
    "f.close()"
   ]
  },
  {
   "cell_type": "code",
   "execution_count": null,
   "metadata": {},
   "outputs": [],
   "source": [
    "# Plot interpolated field\n",
    "import matplotlib.pyplot as plt\n",
    "plt.pcolormesh(X, Y, Z, shading='auto')\n",
    "#plt.plot(x, y, \"ok\", label=\"input point\")\n",
    "plt.legend()\n",
    "plt.colorbar()\n",
    "plt.axis(\"equal\")\n",
    "plt.show()"
   ]
  },
  {
   "cell_type": "markdown",
   "metadata": {},
   "source": [
    "# Create list of meteo points\n",
    "We now create a list of meteo stations to include in the simulations, based on the SNOWPACK stand-alone grid points, assuming that SNOWPACK stand-alone was run for each grid point for which meteo data is available. Note that in our study, we use a subsetted MERRA-2 grid based on climatological similarities between neighboring grid points."
   ]
  },
  {
   "cell_type": "code",
   "execution_count": null,
   "metadata": {},
   "outputs": [],
   "source": [
    "# Apply meteo margin\n",
    "meteo_ulx = dem_ulx - meteo_margin\n",
    "meteo_uly = dem_uly + meteo_margin\n",
    "meteo_lrx = dem_lrx + meteo_margin\n",
    "meteo_lry = dem_lry - meteo_margin\n",
    "\n",
    "# Now loop over SNOWPACK points to determine if we are going to use the meteo forcing\n",
    "x = SP_pts_AT[:,0]                       # Select all X-coordinates from SNOWPACK-run points\n",
    "y = SP_pts_AT[:,1]                       # Select all Y-coordinates from SNOWPACK-run points\n",
    "z = [i for i in range(len(SP_pts_AT))]   # The z-value is set as the index of the grid point\n",
    "\n",
    "XX = np.arange(meteo_ulx, meteo_lrx, cellsize)\n",
    "YY = np.arange(meteo_lry, meteo_uly, cellsize)\n",
    "\n",
    "XX = np.arange(meteo_ulx, meteo_lrx, cellsize)\n",
    "YY = np.arange(meteo_lry, meteo_uly, cellsize)\n",
    "\n",
    "# 2D grid for interpolation, note that we shift from cell corners to cell centers for interpolation!\n",
    "X, Y = np.meshgrid(XX + cellsize/2, YY+cellsize/2)\n",
    "\n",
    "#\n",
    "# We now interpolate the SNOWPACK indices with nearest neighbor to the Alpine3D grid including the\n",
    "# meteo_margin\n",
    "#\n",
    "interp = NearestNDInterpolator(list(zip(x, y)), z)                 # Construct interpolator\n",
    "Z = interp(X, Y)\n",
    "\n",
    "# Write the list of index, lat, lon\n",
    "f = open(meteofiles_prefix + \"meteostn.lst\", 'w')\n",
    "f.write(\"#index latitude longitude easting northing\\n\")\n",
    "for idx in np.unique(Z):\n",
    "    f.write('{:d}'.format(idx) + \" \" + '{:.3f}'.format(SP_pts_A[idx,1]) + \" \" + '{:.3f}'.format(SP_pts_A[idx,0]) + \" \" + '{:.0f}'.format(SP_pts_AT[idx,0]) + \" \" + '{:.0f}'.format(SP_pts_AT[idx,1]) + \"\\n\")\n",
    "f.close()"
   ]
  }
 ],
 "metadata": {
  "kernelspec": {
   "display_name": "Python 3",
   "language": "python",
   "name": "python3"
  },
  "language_info": {
   "codemirror_mode": {
    "name": "ipython",
    "version": 3
   },
   "file_extension": ".py",
   "mimetype": "text/x-python",
   "name": "python",
   "nbconvert_exporter": "python",
   "pygments_lexer": "ipython3",
   "version": "3.7.3"
  }
 },
 "nbformat": 4,
 "nbformat_minor": 2
}
